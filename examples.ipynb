{
 "cells": [
  {
   "cell_type": "code",
   "execution_count": 1,
   "metadata": {},
   "outputs": [
    {
     "name": "stdout",
     "output_type": "stream",
     "text": [
      "200\n",
      "{\"status\":\"ok\"}\n"
     ]
    }
   ],
   "source": [
    "import requests\n",
    "\n",
    "response = requests.get('http://localhost:8008/health')\n",
    "print(response.status_code)\n",
    "print(response.text)"
   ]
  },
  {
   "cell_type": "code",
   "execution_count": 2,
   "metadata": {},
   "outputs": [],
   "source": [
    "Examples = [\"I will travel 5 kilometers by a red car at 5:00 AM\",\n",
    "            \"سأسافر 5 كيلومترات بسيارة حمراء في الساعة 5:00 صباحًا\",]"
   ]
  },
  {
   "cell_type": "code",
   "execution_count": 3,
   "metadata": {},
   "outputs": [],
   "source": [
    "response = requests.post('http://localhost:8008/predict', json={\"texts\": Examples})"
   ]
  },
  {
   "cell_type": "code",
   "execution_count": 4,
   "metadata": {},
   "outputs": [
    {
     "name": "stdout",
     "output_type": "stream",
     "text": [
      "{'main': [[{'end_idx': 50,\n",
      "            'entity': '5:00 AM',\n",
      "            'label': 'time',\n",
      "            'start_idx': 43}]],\n",
      " 'regex': [{'5:00 AM': {'end_idx': 50, 'entity': 'Time', 'start_idx': 43},\n",
      "            'kilometers': {'end_idx': 26, 'entity': 'Unit', 'start_idx': 16},\n",
      "            'red': {'end_idx': 35, 'entity': 'Color', 'start_idx': 32}},\n",
      "           {' حمراء': {'end_idx': 31, 'entity': 'Color', 'start_idx': 25},\n",
      "            '5:00 ': {'end_idx': 47, 'entity': 'Time', 'start_idx': 42},\n",
      "            'كيلومترات': {'end_idx': 18, 'entity': 'Unit', 'start_idx': 9}}],\n",
      " 'tuned': [[{'end_idx': 16,\n",
      "             'entity': '5 ',\n",
      "             'label': 'Quantity',\n",
      "             'start_idx': 14},\n",
      "            {'end_idx': 27,\n",
      "             'entity': 'kilometers ',\n",
      "             'label': 'Units',\n",
      "             'start_idx': 16},\n",
      "            {'end_idx': 36,\n",
      "             'entity': 'red ',\n",
      "             'label': 'Colors',\n",
      "             'start_idx': 32},\n",
      "            {'end_idx': 50,\n",
      "             'entity': '5:00 AM',\n",
      "             'label': 'Times',\n",
      "             'start_idx': 43}]]}\n"
     ]
    }
   ],
   "source": [
    "from pprint import pprint\n",
    "pprint(response.json())"
   ]
  }
 ],
 "metadata": {
  "kernelspec": {
   "display_name": "Python 3",
   "language": "python",
   "name": "python3"
  },
  "language_info": {
   "codemirror_mode": {
    "name": "ipython",
    "version": 3
   },
   "file_extension": ".py",
   "mimetype": "text/x-python",
   "name": "python",
   "nbconvert_exporter": "python",
   "pygments_lexer": "ipython3",
   "version": "3.10.6"
  }
 },
 "nbformat": 4,
 "nbformat_minor": 2
}
