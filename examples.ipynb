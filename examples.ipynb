{
 "cells": [
  {
   "cell_type": "code",
   "execution_count": 2,
   "metadata": {},
   "outputs": [
    {
     "name": "stdout",
     "output_type": "stream",
     "text": [
      "200\n",
      "{\"status\":\"ok\"}\n"
     ]
    }
   ],
   "source": [
    "import requests\n",
    "\n",
    "response = requests.get('http://localhost:8008/health')\n",
    "print(response.status_code)\n",
    "print(response.text)"
   ]
  },
  {
   "cell_type": "code",
   "execution_count": 3,
   "metadata": {},
   "outputs": [],
   "source": [
    "Examples = [\"I will go to work at 5:00 AM and my car is red at the speed of 50 km/hr\",\n",
    "            \"لقد ذهبت إلى العمل في الساعة 5:00 صباحًا وسيارتي حمراء بسرعة 50 كم / ساعة\",]"
   ]
  },
  {
   "cell_type": "code",
   "execution_count": 6,
   "metadata": {},
   "outputs": [],
   "source": [
    "response = requests.post('http://localhost:8008/predict', json={\"texts\": Examples})"
   ]
  },
  {
   "cell_type": "code",
   "execution_count": 11,
   "metadata": {},
   "outputs": [
    {
     "data": {
      "text/plain": [
       "{'main': [{'5:00 AM': {'index': [6, 7], 'entity': 'time'},\n",
       "   '50': {'index': [17], 'entity': 'time'},\n",
       "   'km/hr': {'index': [18], 'entity': 'product'}},\n",
       "  {'الساعة 5:00': {'index': [5, 6], 'entity': 'time'},\n",
       "   'كم': {'index': [12], 'entity': 'product'},\n",
       "   'ساعة': {'index': [14], 'entity': 'time'}}],\n",
       " 'tuned': [{'5 : 00 am': {'index': [6, 7, 8, 9], 'entity': 'Times'},\n",
       "   '50': {'index': [19], 'entity': 'Prices'},\n",
       "   'km / hr': {'index': [20, 21, 22], 'entity': 'Times'}},\n",
       "  {'الساعة': {'index': [5], 'entity': 'Times'},\n",
       "   '5 : 00 صباحا': {'index': [6, 7, 8, 9], 'entity': 'Times'},\n",
       "   '50': {'index': [13], 'entity': 'Prices'},\n",
       "   'كم': {'index': [14], 'entity': 'Units'},\n",
       "   '/ ساعة': {'index': [15, 16], 'entity': 'Times'}}],\n",
       " 'regex': [{'5:00 AM': {'start_idx': 21, 'end_idx': 28, 'entity': 'Time'},\n",
       "   'red': {'start_idx': 43, 'end_idx': 46, 'entity': 'Color'},\n",
       "   'km': {'start_idx': 66, 'end_idx': 68, 'entity': 'Unit'}},\n",
       "  {'5:00 ': {'start_idx': 29, 'end_idx': 34, 'entity': 'Time'},\n",
       "   '5:00 ص': {'start_idx': 29, 'end_idx': 35, 'entity': 'Time'},\n",
       "   'كم / ساعة': {'start_idx': 64, 'end_idx': 73, 'entity': 'Unit'}}]}"
      ]
     },
     "execution_count": 11,
     "metadata": {},
     "output_type": "execute_result"
    }
   ],
   "source": [
    "response.json()"
   ]
  },
  {
   "cell_type": "code",
   "execution_count": null,
   "metadata": {},
   "outputs": [],
   "source": []
  }
 ],
 "metadata": {
  "kernelspec": {
   "display_name": "Python 3",
   "language": "python",
   "name": "python3"
  },
  "language_info": {
   "codemirror_mode": {
    "name": "ipython",
    "version": 3
   },
   "file_extension": ".py",
   "mimetype": "text/x-python",
   "name": "python",
   "nbconvert_exporter": "python",
   "pygments_lexer": "ipython3",
   "version": "3.10.6"
  }
 },
 "nbformat": 4,
 "nbformat_minor": 2
}
