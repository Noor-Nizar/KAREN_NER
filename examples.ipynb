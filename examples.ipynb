{
 "cells": [
  {
   "cell_type": "code",
   "execution_count": 1,
   "metadata": {},
   "outputs": [
    {
     "name": "stdout",
     "output_type": "stream",
     "text": [
      "200\n",
      "{\"status\":\"ok\"}\n"
     ]
    }
   ],
   "source": [
    "import requests\n",
    "\n",
    "response = requests.get('http://localhost:8008/health')\n",
    "print(response.status_code)\n",
    "print(response.text)"
   ]
  },
  {
   "cell_type": "code",
   "execution_count": 2,
   "metadata": {},
   "outputs": [],
   "source": [
    "Examples = [\"I will travel 5 kilometers by a red car at 5:00 AM\",\n",
    "            \"سأسافر 5 كيلومترات بسيارة حمراء في الساعة 5:00 صباحًا\",]"
   ]
  },
  {
   "cell_type": "code",
   "execution_count": 3,
   "metadata": {},
   "outputs": [],
   "source": [
    "response = requests.post('http://localhost:8008/predict', json={\"texts\": Examples})"
   ]
  },
  {
   "cell_type": "code",
   "execution_count": 4,
   "metadata": {},
   "outputs": [
    {
     "data": {
      "text/plain": [
       "{'main': [[{'entity': '5:00 AM',\n",
       "    'start_idx': 43,\n",
       "    'end_idx': 50,\n",
       "    'label': 'time'}]],\n",
       " 'tuned': [[{'entity': '5 ',\n",
       "    'start_idx': 14,\n",
       "    'end_idx': 16,\n",
       "    'label': 'Quantity'},\n",
       "   {'entity': 'kilometers ', 'start_idx': 16, 'end_idx': 27, 'label': 'Units'},\n",
       "   {'entity': '5:00 AM', 'start_idx': 43, 'end_idx': 50, 'label': 'Times'}]],\n",
       " 'regex': [{'5:00 AM': {'start_idx': 43, 'end_idx': 50, 'entity': 'Time'},\n",
       "   'red': {'start_idx': 32, 'end_idx': 35, 'entity': 'Color'},\n",
       "   'kilometers': {'start_idx': 16, 'end_idx': 26, 'entity': 'Unit'}},\n",
       "  {'5:00 ': {'start_idx': 42, 'end_idx': 47, 'entity': 'Time'},\n",
       "   ' حمراء': {'start_idx': 25, 'end_idx': 31, 'entity': 'Color'},\n",
       "   'كيلومترات': {'start_idx': 9, 'end_idx': 18, 'entity': 'Unit'}}]}"
      ]
     },
     "execution_count": 4,
     "metadata": {},
     "output_type": "execute_result"
    }
   ],
   "source": [
    "response.json()"
   ]
  }
 ],
 "metadata": {
  "kernelspec": {
   "display_name": "Python 3",
   "language": "python",
   "name": "python3"
  },
  "language_info": {
   "codemirror_mode": {
    "name": "ipython",
    "version": 3
   },
   "file_extension": ".py",
   "mimetype": "text/x-python",
   "name": "python",
   "nbconvert_exporter": "python",
   "pygments_lexer": "ipython3",
   "version": "3.10.6"
  }
 },
 "nbformat": 4,
 "nbformat_minor": 2
}
