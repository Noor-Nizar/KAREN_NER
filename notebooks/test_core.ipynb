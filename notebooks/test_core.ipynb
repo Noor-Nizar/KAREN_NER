{
 "cells": [
  {
   "cell_type": "code",
   "execution_count": 1,
   "metadata": {},
   "outputs": [],
   "source": [
    "import os \n",
    "os.chdir('..')"
   ]
  },
  {
   "cell_type": "code",
   "execution_count": null,
   "metadata": {},
   "outputs": [],
   "source": [
    "# from app.data.lbox_handler import process_labelbox_data\n",
    "\n",
    "# process_labelbox_data()"
   ]
  },
  {
   "cell_type": "code",
   "execution_count": 4,
   "metadata": {},
   "outputs": [],
   "source": [
    "from app.inference import infer_model, get_labels_main, get_labels_tuned\n",
    "\n",
    "from app.models import get_model, get_tokenizer\n"
   ]
  },
  {
   "cell_type": "code",
   "execution_count": 3,
   "metadata": {},
   "outputs": [
    {
     "name": "stderr",
     "output_type": "stream",
     "text": [
      "/opt/homebrew/Caskroom/miniforge/base/envs/mtpqt/lib/python3.10/site-packages/huggingface_hub/file_download.py:1132: FutureWarning: `resume_download` is deprecated and will be removed in version 1.0.0. Downloads always resume when possible. If you want to force a new download, use `force_download=True`.\n",
      "  warnings.warn(\n",
      "/opt/homebrew/Caskroom/miniforge/base/envs/mtpqt/lib/python3.10/site-packages/huggingface_hub/file_download.py:1132: FutureWarning: `resume_download` is deprecated and will be removed in version 1.0.0. Downloads always resume when possible. If you want to force a new download, use `force_download=True`.\n",
      "  warnings.warn(\n"
     ]
    }
   ],
   "source": [
    "model_main = get_model()\n",
    "tokenizer_main = get_tokenizer()"
   ]
  },
  {
   "cell_type": "code",
   "execution_count": 4,
   "metadata": {},
   "outputs": [
    {
     "data": {
      "text/plain": [
       "[[{'entity': 'Noor', 'start_idx': 11, 'end_idx': 15, 'label': 'person'}]]"
      ]
     },
     "execution_count": 4,
     "metadata": {},
     "output_type": "execute_result"
    }
   ],
   "source": [
    "infer_model([\"My name is Noor\", \"I like the color Black Pyramids\"],model_main, tokenizer_main, get_labels_main(), max_length=64)"
   ]
  },
  {
   "cell_type": "code",
   "execution_count": 2,
   "metadata": {},
   "outputs": [
    {
     "name": "stderr",
     "output_type": "stream",
     "text": [
      "/opt/homebrew/Caskroom/miniforge/base/envs/mtpqt/lib/python3.10/site-packages/huggingface_hub/file_download.py:1132: FutureWarning: `resume_download` is deprecated and will be removed in version 1.0.0. Downloads always resume when possible. If you want to force a new download, use `force_download=True`.\n",
      "  warnings.warn(\n"
     ]
    }
   ],
   "source": [
    "from app.models import get_tuning_tokenizer, get_tuning_model\n",
    "from app.training.training_routine import get_trainer, prepare_data\n",
    "\n",
    "model_tuned = get_tuning_model(path = \"models/checkpoint-253-aug\")\n",
    "tokenizer_tuned = get_tuning_tokenizer()"
   ]
  },
  {
   "cell_type": "code",
   "execution_count": 5,
   "metadata": {},
   "outputs": [
    {
     "data": {
      "text/plain": [
       "[[{'entity': '5 ', 'start_idx': 11, 'end_idx': 13, 'label': 'Quantity'},\n",
       "  {'entity': 'kgs', 'start_idx': 13, 'end_idx': 16, 'label': 'Units'}]]"
      ]
     },
     "execution_count": 5,
     "metadata": {},
     "output_type": "execute_result"
    }
   ],
   "source": [
    "infer_model([\"I like the 5 kgs\", \"I will go to the office tomorrow at 5 o'clock\"], model_tuned, tokenizer_tuned, get_labels_tuned(), max_length=64)"
   ]
  },
  {
   "cell_type": "code",
   "execution_count": 6,
   "metadata": {},
   "outputs": [
    {
     "name": "stderr",
     "output_type": "stream",
     "text": [
      "2024-08-18 03:01:16,510 - app.logger - WARNING - max_length is None, setting it to 64\n",
      "2024-08-18 03:01:16,514 - app.logger - WARNING - max_length is None, setting it to 64\n"
     ]
    }
   ],
   "source": [
    "from app.training.training_helpers import compute_metrics_2\n",
    "\n",
    "train_set, test_set, _, _ = prepare_data(tokenizer_tuned, \"merged.txt\")\n",
    "trainer = get_trainer(model_tuned, train_set, test_set, cuda=False, batch_size=2, compute_metrics=compute_metrics_2)"
   ]
  },
  {
   "cell_type": "code",
   "execution_count": 7,
   "metadata": {},
   "outputs": [
    {
     "name": "stdout",
     "output_type": "stream",
     "text": [
      "huggingface/tokenizers: The current process just got forked, after parallelism has already been used. Disabling parallelism to avoid deadlocks...\n",
      "To disable this warning, you can either:\n",
      "\t- Avoid using `tokenizers` before the fork if possible\n",
      "\t- Explicitly set the environment variable TOKENIZERS_PARALLELISM=(true | false)\n"
     ]
    },
    {
     "data": {
      "application/vnd.jupyter.widget-view+json": {
       "model_id": "c1dd936cdfa74cb0afeea1de841b41cb",
       "version_major": 2,
       "version_minor": 0
      },
      "text/plain": [
       "  0%|          | 0/187 [00:00<?, ?it/s]"
      ]
     },
     "metadata": {},
     "output_type": "display_data"
    },
    {
     "name": "stdout",
     "output_type": "stream",
     "text": [
      "              precision    recall  f1-score   support\n",
      "\n",
      "       B-Age       1.00      1.00      1.00        44\n",
      "    B-Colors       0.96      1.00      0.98        52\n",
      "  B-Currency       1.00      0.50      0.67         8\n",
      "     B-Dates       1.00      0.97      0.99        70\n",
      "    B-Prices       0.97      1.00      0.99       149\n",
      "  B-Quantity       0.97      0.98      0.97       278\n",
      "     B-Times       0.98      0.95      0.96        84\n",
      "     B-Units       0.97      1.00      0.99       234\n",
      "       I-Age       1.00      1.00      1.00       154\n",
      "    I-Colors       0.88      0.94      0.91        32\n",
      "  I-Currency       1.00      0.67      0.80         6\n",
      "     I-Dates       1.00      0.97      0.99       220\n",
      "    I-Prices       0.98      0.99      0.98       423\n",
      "  I-Quantity       1.00      0.92      0.96        72\n",
      "     I-Times       0.99      1.00      0.99       304\n",
      "     I-Units       0.98      0.99      0.99       531\n",
      "           O       1.00      0.99      0.99      3248\n",
      "\n",
      "    accuracy                           0.99      5909\n",
      "   macro avg       0.98      0.93      0.95      5909\n",
      "weighted avg       0.99      0.99      0.99      5909\n",
      "\n"
     ]
    },
    {
     "data": {
      "text/plain": [
       "{'eval_loss': 0.058077793568372726,\n",
       " 'eval_done': 1,\n",
       " 'eval_runtime': 14.8731,\n",
       " 'eval_samples_per_second': 25.079,\n",
       " 'eval_steps_per_second': 12.573}"
      ]
     },
     "execution_count": 7,
     "metadata": {},
     "output_type": "execute_result"
    }
   ],
   "source": [
    "trainer.evaluate()"
   ]
  },
  {
   "cell_type": "code",
   "execution_count": 7,
   "metadata": {},
   "outputs": [],
   "source": [
    "from app.inference import infer"
   ]
  },
  {
   "cell_type": "code",
   "execution_count": 11,
   "metadata": {},
   "outputs": [
    {
     "data": {
      "text/plain": [
       "{'main': [[{'entity': '5:00 ',\n",
       "    'start_idx': 21,\n",
       "    'end_idx': 26,\n",
       "    'label': 'time'},\n",
       "   {'entity': 'red', 'start_idx': 43, 'end_idx': 46, 'label': 'artwork'}]],\n",
       " 'tuned': [[{'entity': '5', 'start_idx': 21, 'end_idx': 22, 'label': 'Times'},\n",
       "   {'entity': ':00 AM ', 'start_idx': 22, 'end_idx': 29, 'label': 'Units'},\n",
       "   {'entity': 'red', 'start_idx': 43, 'end_idx': 46, 'label': 'Colors'}]],\n",
       " 'regex': [{'5:00 AM': {'start_idx': 21, 'end_idx': 28, 'entity': 'Time'},\n",
       "   'red': {'start_idx': 43, 'end_idx': 46, 'entity': 'Color'}}]}"
      ]
     },
     "execution_count": 11,
     "metadata": {},
     "output_type": "execute_result"
    }
   ],
   "source": [
    "infer([\"I will go to work at 5:00 AM and my car is red\"], model_tuned=model_tuned, model_main=model_main, tokenizer_main=tokenizer_main, tokenizer_tuned=tokenizer_tuned, max_length=64)"
   ]
  },
  {
   "cell_type": "code",
   "execution_count": 12,
   "metadata": {},
   "outputs": [],
   "source": [
    "from app.regex_finders import regex_ner"
   ]
  },
  {
   "cell_type": "code",
   "execution_count": 13,
   "metadata": {},
   "outputs": [
    {
     "data": {
      "text/plain": [
       "{'5:00 AM': {'start_idx': 21, 'end_idx': 28, 'entity': 'Time'},\n",
       " 'red': {'start_idx': 43, 'end_idx': 46, 'entity': 'Color'},\n",
       " 'km': {'start_idx': 66, 'end_idx': 68, 'entity': 'Unit'}}"
      ]
     },
     "execution_count": 13,
     "metadata": {},
     "output_type": "execute_result"
    }
   ],
   "source": [
    "regex_ner(\"I will go to work at 5:00 AM and my car is red at the speed of 50 km/hr\")"
   ]
  },
  {
   "cell_type": "code",
   "execution_count": 14,
   "metadata": {},
   "outputs": [
    {
     "data": {
      "text/plain": [
       "{'5:00 ': {'start_idx': 42, 'end_idx': 47, 'entity': 'Time'},\n",
       " ' حمراء': {'start_idx': 25, 'end_idx': 31, 'entity': 'Color'},\n",
       " 'كيلومترات': {'start_idx': 9, 'end_idx': 18, 'entity': 'Unit'}}"
      ]
     },
     "execution_count": 14,
     "metadata": {},
     "output_type": "execute_result"
    }
   ],
   "source": [
    "regex_ner(\"سأسافر 5 كيلومترات بسيارة حمراء في الساعة 5:00 صباحًا\")"
   ]
  }
 ],
 "metadata": {
  "kernelspec": {
   "display_name": "mtpqt",
   "language": "python",
   "name": "python3"
  },
  "language_info": {
   "codemirror_mode": {
    "name": "ipython",
    "version": 3
   },
   "file_extension": ".py",
   "mimetype": "text/x-python",
   "name": "python",
   "nbconvert_exporter": "python",
   "pygments_lexer": "ipython3",
   "version": "3.10.6"
  }
 },
 "nbformat": 4,
 "nbformat_minor": 2
}
