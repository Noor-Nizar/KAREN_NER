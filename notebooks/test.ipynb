{
 "cells": [
  {
   "cell_type": "code",
   "execution_count": 1,
   "metadata": {},
   "outputs": [],
   "source": [
    "import os \n",
    "os.chdir('..')"
   ]
  },
  {
   "cell_type": "code",
   "execution_count": 2,
   "metadata": {},
   "outputs": [],
   "source": [
    "from app.inference import infer_tuned, infer_main\n",
    "\n",
    "from app.models import get_model, get_tokenizer, get_tuning_tokenizer, get_tuning_model"
   ]
  },
  {
   "cell_type": "code",
   "execution_count": 3,
   "metadata": {},
   "outputs": [
    {
     "name": "stderr",
     "output_type": "stream",
     "text": [
      "/opt/homebrew/Caskroom/miniforge/base/envs/mtpqt/lib/python3.10/site-packages/huggingface_hub/file_download.py:1132: FutureWarning: `resume_download` is deprecated and will be removed in version 1.0.0. Downloads always resume when possible. If you want to force a new download, use `force_download=True`.\n",
      "  warnings.warn(\n",
      "/opt/homebrew/Caskroom/miniforge/base/envs/mtpqt/lib/python3.10/site-packages/huggingface_hub/file_download.py:1132: FutureWarning: `resume_download` is deprecated and will be removed in version 1.0.0. Downloads always resume when possible. If you want to force a new download, use `force_download=True`.\n",
      "  warnings.warn(\n"
     ]
    }
   ],
   "source": [
    "model_main = get_model()\n",
    "tokenizer_main = get_tokenizer()"
   ]
  },
  {
   "cell_type": "code",
   "execution_count": 4,
   "metadata": {},
   "outputs": [
    {
     "data": {
      "text/plain": [
       "[{'Noor': {'index': [3], 'entity': 'person'}},\n",
       " {'Black Pyramids': {'index': [4, 5], 'entity': 'artwork'}}]"
      ]
     },
     "execution_count": 4,
     "metadata": {},
     "output_type": "execute_result"
    }
   ],
   "source": [
    "infer_main([\"My name is Noor\", \"I like the color Black Pyramids\"],model_main, tokenizer_main, max_length=64)"
   ]
  },
  {
   "cell_type": "code",
   "execution_count": 5,
   "metadata": {},
   "outputs": [
    {
     "data": {
      "text/plain": [
       "['I', 'will', 'go', 'to', 'work', 'at', '5:00', 'AM']"
      ]
     },
     "execution_count": 5,
     "metadata": {},
     "output_type": "execute_result"
    }
   ],
   "source": [
    "\"I will go to work at 5:00 AM\".split()"
   ]
  },
  {
   "cell_type": "code",
   "execution_count": 4,
   "metadata": {},
   "outputs": [
    {
     "name": "stderr",
     "output_type": "stream",
     "text": [
      "/opt/homebrew/Caskroom/miniforge/base/envs/mtpqt/lib/python3.10/site-packages/huggingface_hub/file_download.py:1132: FutureWarning: `resume_download` is deprecated and will be removed in version 1.0.0. Downloads always resume when possible. If you want to force a new download, use `force_download=True`.\n",
      "  warnings.warn(\n"
     ]
    }
   ],
   "source": [
    "from app.models import get_model, get_tokenizer, get_tuning_tokenizer, get_tuning_model\n",
    "from app.training.training_routine import get_trainer, prepare_data\n",
    "\n",
    "model_tuned = get_tuning_model(path = \"models/checkpoint-248\")\n",
    "tokenizer_tuned = get_tuning_tokenizer()"
   ]
  },
  {
   "cell_type": "code",
   "execution_count": 6,
   "metadata": {},
   "outputs": [
    {
     "name": "stderr",
     "output_type": "stream",
     "text": [
      "/opt/homebrew/Caskroom/miniforge/base/envs/mtpqt/lib/python3.10/site-packages/huggingface_hub/file_download.py:1132: FutureWarning: `resume_download` is deprecated and will be removed in version 1.0.0. Downloads always resume when possible. If you want to force a new download, use `force_download=True`.\n",
      "  warnings.warn(\n"
     ]
    },
    {
     "data": {
      "text/plain": [
       "[{'5': {'index': [3], 'entity': 'Quantity'},\n",
       "  'kgs': {'index': [4], 'entity': 'Units'}},\n",
       " {'5': {'index': [8], 'entity': 'Quantity'},\n",
       "  \"o ' clock\": {'index': [9, 10, 11], 'entity': 'Units'}}]"
      ]
     },
     "execution_count": 6,
     "metadata": {},
     "output_type": "execute_result"
    }
   ],
   "source": [
    "infer_tuned([\"I like the 5 kgs\", \"I will go to the office tomorrow at 5 o'clock\"], model_tuned, tokenizer_tuned, max_length=64)"
   ]
  },
  {
   "cell_type": "code",
   "execution_count": 7,
   "metadata": {},
   "outputs": [
    {
     "name": "stderr",
     "output_type": "stream",
     "text": [
      "2024-08-13 09:51:45,044 - app.logger - WARNING - max_length is None, setting it to 64\n",
      "2024-08-13 09:51:45,064 - app.logger - WARNING - max_length is None, setting it to 64\n"
     ]
    }
   ],
   "source": [
    "from app.training.training_helpers import compute_metrics_2\n",
    "\n",
    "train_set, test_set, _, _ = prepare_data(tokenizer_tuned, re_process=False)\n",
    "trainer = get_trainer(model_tuned, train_set, test_set, cuda=False, batch_size=2, compute_metrics=compute_metrics_2)"
   ]
  },
  {
   "cell_type": "code",
   "execution_count": 8,
   "metadata": {},
   "outputs": [
    {
     "data": {
      "text/plain": [
       "13"
      ]
     },
     "execution_count": 8,
     "metadata": {},
     "output_type": "execute_result"
    }
   ],
   "source": [
    "\"I like the 5 kgs\".index(\"kgs\")"
   ]
  },
  {
   "cell_type": "code",
   "execution_count": 9,
   "metadata": {},
   "outputs": [
    {
     "name": "stdout",
     "output_type": "stream",
     "text": [
      "huggingface/tokenizers: The current process just got forked, after parallelism has already been used. Disabling parallelism to avoid deadlocks...\n",
      "To disable this warning, you can either:\n",
      "\t- Avoid using `tokenizers` before the fork if possible\n",
      "\t- Explicitly set the environment variable TOKENIZERS_PARALLELISM=(true | false)\n"
     ]
    },
    {
     "data": {
      "application/vnd.jupyter.widget-view+json": {
       "model_id": "5f0857b07e37493592161258bfcc9d1a",
       "version_major": 2,
       "version_minor": 0
      },
      "text/plain": [
       "  0%|          | 0/30 [00:00<?, ?it/s]"
      ]
     },
     "metadata": {},
     "output_type": "display_data"
    },
    {
     "name": "stdout",
     "output_type": "stream",
     "text": [
      "              precision    recall  f1-score   support\n",
      "\n",
      "       B-Age       1.00      1.00      1.00         6\n",
      "    B-Colors       0.75      0.38      0.50         8\n",
      "  B-Currency       0.57      0.50      0.53        16\n",
      "     B-Dates       0.79      0.65      0.71        17\n",
      "    B-Prices       0.85      0.96      0.90        23\n",
      "  B-Quantity       0.89      0.74      0.81        34\n",
      "     B-Times       0.58      0.85      0.69        13\n",
      "     B-Units       0.84      0.68      0.75        38\n",
      "       I-Age       1.00      1.00      1.00        21\n",
      "  I-Currency       0.62      0.50      0.55        26\n",
      "     I-Dates       0.93      0.96      0.94        53\n",
      "    I-Prices       0.33      0.43      0.38        21\n",
      "  I-Quantity       0.50      0.67      0.57         3\n",
      "     I-Times       0.52      0.91      0.66        43\n",
      "     I-Units       0.91      0.62      0.73        65\n",
      "           O       0.97      0.96      0.97       483\n",
      "\n",
      "    accuracy                           0.87       870\n",
      "   macro avg       0.75      0.74      0.73       870\n",
      "weighted avg       0.88      0.87      0.87       870\n",
      "\n"
     ]
    },
    {
     "data": {
      "text/plain": [
       "{'eval_loss': 0.5348508954048157,\n",
       " 'eval_done': 1,\n",
       " 'eval_runtime': 2.8626,\n",
       " 'eval_samples_per_second': 20.611,\n",
       " 'eval_steps_per_second': 10.48}"
      ]
     },
     "execution_count": 9,
     "metadata": {},
     "output_type": "execute_result"
    }
   ],
   "source": [
    "trainer.evaluate()"
   ]
  },
  {
   "cell_type": "code",
   "execution_count": 5,
   "metadata": {},
   "outputs": [],
   "source": [
    "from app.inference import infer"
   ]
  },
  {
   "cell_type": "code",
   "execution_count": 6,
   "metadata": {},
   "outputs": [
    {
     "data": {
      "text/plain": [
       "{'main': [{'5:00': {'index': [6], 'entity': 'time'},\n",
       "   'red': {'index': [12], 'entity': 'artwork'}}],\n",
       " 'tuned': [{'5 : 00 am': {'index': [6, 7, 8, 9], 'entity': 'Times'}}],\n",
       " 'regex': [{'5:00 AM': {'start_idx': 21, 'end_idx': 28, 'entity': 'Time'},\n",
       "   'red': {'start_idx': 43, 'end_idx': 46, 'entity': 'Color'}}]}"
      ]
     },
     "execution_count": 6,
     "metadata": {},
     "output_type": "execute_result"
    }
   ],
   "source": [
    "infer([\"I will go to work at 5:00 AM and my car is red\"], model_tuned=model_tuned, model_main=model_main, tokenizer_main=tokenizer_main, tokenizer_tuned=tokenizer_tuned, max_length=64)"
   ]
  },
  {
   "cell_type": "code",
   "execution_count": 2,
   "metadata": {},
   "outputs": [],
   "source": [
    "from app.regex_finders import regex_ner"
   ]
  },
  {
   "cell_type": "code",
   "execution_count": 3,
   "metadata": {},
   "outputs": [
    {
     "data": {
      "text/plain": [
       "{'5:00 AM': {'start_idx': 21, 'end_idx': 28, 'entity': 'Time'},\n",
       " 'red': {'start_idx': 43, 'end_idx': 46, 'entity': 'Color'},\n",
       " 'km': {'start_idx': 66, 'end_idx': 68, 'entity': 'Unit'}}"
      ]
     },
     "execution_count": 3,
     "metadata": {},
     "output_type": "execute_result"
    }
   ],
   "source": [
    "regex_ner(\"I will go to work at 5:00 AM and my car is red at the speed of 50 km/hr\")"
   ]
  }
 ],
 "metadata": {
  "kernelspec": {
   "display_name": "mtpqt",
   "language": "python",
   "name": "python3"
  },
  "language_info": {
   "codemirror_mode": {
    "name": "ipython",
    "version": 3
   },
   "file_extension": ".py",
   "mimetype": "text/x-python",
   "name": "python",
   "nbconvert_exporter": "python",
   "pygments_lexer": "ipython3",
   "version": "3.10.6"
  }
 },
 "nbformat": 4,
 "nbformat_minor": 2
}
